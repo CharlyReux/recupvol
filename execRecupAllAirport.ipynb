{
 "cells": [
  {
   "cell_type": "markdown",
   "metadata": {
    "id": "3iMhXWpA81-W"
   },
   "source": [
    "# PROJET Data Engineering\n",
    "Les objectifs de ce projet sont les suivants:\n",
    "\n",
    "> *   Récuperer tous les départs et arrivées des avions de tout les aéroports sur le site //EXEMPLE//.\n",
    "*   Récuperer la météo correspondant aux aéroports.\n",
    "*   Correler les données dans un but statistique pour évaluer l'influence de la météo et des companie sur les retards.\n",
    "*   Afficher les aéroports et les avions sur une carte \n",
    "*   Pourquoi pas voir le taux de remplissage des avions ([Site interressant](https://www.vol-retarde.fr/blog/2018/03/01/quel-est-le-taux-de-remplissage-des-compagnies-aeriennes)) \n",
    "\n",
    "\n",
    "\n"
   ]
  },
  {
   "cell_type": "markdown",
   "metadata": {
    "id": "Yvb-KH2ST3-P"
   },
   "source": [
    "## Imports"
   ]
  },
  {
   "cell_type": "code",
   "execution_count": 1,
   "metadata": {
    "colab": {
     "base_uri": "https://localhost:8080/"
    },
    "id": "RE0GxNrBJFQM",
    "outputId": "9c1ed953-9ae0-4453-9380-a664ceff2546"
   },
   "outputs": [
    {
     "name": "stderr",
     "output_type": "stream",
     "text": [
      "/tmp/ipykernel_221133/1162379615.py:23: DeprecationWarning: use options instead of chrome_options\n",
      "  browser = webdriver.Chrome('chromedriver',chrome_options=chrome_options)\n"
     ]
    }
   ],
   "source": [
    "import time\n",
    "import sys\n",
    "import re\n",
    "from time import sleep\n",
    "from metar_taf_parser.parser.parser import MetarParser\n",
    "import bs4\n",
    "from bs4 import BeautifulSoup\n",
    "import urllib.request\n",
    "import pandas as pd\n",
    "import numpy as np\n",
    "import seaborn as sb\n",
    "import folium as fl\n",
    "import lxml\n",
    "from folium.plugins import MarkerCluster\n",
    "sys.path.insert(0,'/usr/lib/chromium-browser/chromedriver')\n",
    "from selenium import webdriver\n",
    "from selenium.webdriver.common.by import By\n",
    "chrome_options = webdriver.ChromeOptions()\n",
    "chrome_options.add_argument('--headless')\n",
    "chrome_options.add_argument('--no-sandbox')\n",
    "chrome_options.add_argument('--dns-prefetch-disable')\n",
    "chrome_options.add_argument('--disable-dev-shm-usage')\n",
    "browser = webdriver.Chrome('chromedriver',chrome_options=chrome_options)\n"
   ]
  },
  {
   "cell_type": "markdown",
   "metadata": {
    "id": "_bL9FxZlzLQm"
   },
   "source": [
    "## Récupération des vols"
   ]
  },
  {
   "cell_type": "markdown",
   "metadata": {
    "id": "hvgEkUsc3XBI"
   },
   "source": [
    "#### Création des fonctions de récupération des vols\n",
    "\n",
    "\n",
    "\n"
   ]
  },
  {
   "cell_type": "code",
   "execution_count": 2,
   "metadata": {
    "id": "iDr5B-w23f9w"
   },
   "outputs": [],
   "source": [
    "def RecupVol (dep,airport) : \n",
    "    \"\"\"\n",
    "    dep = departures ; !dep = arrivals ; airport indique l'aéroport demandé\n",
    "    \"\"\"\n",
    "    currBrowser = browser\n",
    "    if dep :\n",
    "        url = \"//EXEMPLE//\"+airport+\"/departures\"\n",
    "    else :\n",
    "        url = \"//EXEMPLE//\"+airport+\"/arrivals\"\n",
    "    #si on a une erreur on reset le driver et on recommence(necessaire lorsqu'on se fait ban)\n",
    "    while(True):\n",
    "        currBrowser.get(url)\n",
    "        sleep(1)\n",
    "        try:\n",
    "            element = currBrowser.find_element(By.XPATH,\"//button[contains( text( ), 'Load earlier flights')]\")\n",
    "        except:\n",
    "            currBrowser.delete_all_cookies()\n",
    "            continue;\n",
    "        break;\n",
    "        \n",
    "    for i in range(2):\n",
    "        sleep(1) #attente du chargement des vols\n",
    "        currBrowser.execute_script(\"arguments[0].click();\", element)\n",
    "    page_source = browser.page_source\n",
    "    return page_source,dep"
   ]
  },
  {
   "cell_type": "code",
   "execution_count": 11,
   "metadata": {
    "id": "yIiC_DaR3fsH"
   },
   "outputs": [],
   "source": [
    "global listDate, listDateCopy, listDateCopy2\n",
    " \n",
    "\n",
    "def inDF (ps) :\n",
    "    soup = BeautifulSoup(ps[0], 'html.parser')\n",
    "    table = soup.find_all('table')\n",
    "    \n",
    "    global listDate, listDateCopy,listDateCopy2\n",
    "    listDate = soup.find_all(\"tr\", {\"class\": \"row-date-separator hidden-xs hidden-sm\"})#récupération des dates\n",
    "    listDateCopy = listDate.copy()\n",
    "    listDateCopy2 = listDate.copy()\n",
    "\n",
    "    df = pd.read_html(str(table))[0]\n",
    "    df.drop(df.tail(2).index,inplace=True) # Drop des 2 premières et \n",
    "    df.drop(df.head(3).index,inplace=True) # dernière lignes car incorrecte\n",
    "\n",
    "\n",
    "    tsize = int(df.shape[0]/2)                  # Les valeurs sont doublés au moment de la récupération donc on drop \n",
    "    df.drop(df.head(tsize).index,inplace=True)  # la première moitié du DataFrame\n",
    "\n",
    "\n",
    "    if ps[1] :\n",
    "        df.set_axis(['Time', 'Flight', 'To', 'Airline', 'Aircraft','Block','Status'], axis=1, inplace=True) # Réarrangement des noms de colonnes et drop d'une colonne en trop\n",
    "        df['To'] = df.apply(lambda x : re.sub(r'-', '', x['To'] ),axis=1)\n",
    "    else :\n",
    "        df.set_axis(['Time', 'Flight', 'From', 'Airline', 'Aircraft','Block','Status'], axis=1, inplace=True) # La colonne BLock correspond à la couleur du vol sur le site Vert = à l'heure\n",
    "        df['From'] = df.apply(lambda x : re.sub(r'-', '', x['From'] ),axis=1)\n",
    "  \n",
    "    #on applique à toute les ligne la fonciton addColumSec qui va calculer \n",
    "    #le nombre de secondes écoulées entre l'\"epoch time\" et la date d'arrivée prévue\n",
    "    df['SecTimeStamp'] = df.apply(lambda x :addColumSec(x),axis=1)\n",
    "    df['FullDate'] = df.apply(lambda x : addColumFullDate(x),axis=1)\n",
    "\n",
    "    df = df.rename(index=lambda s : s - tsize - 1 ) # On renomme les lignes \n",
    "\n",
    "    df[\"secRetard\"] = df.apply(lambda x : schToSecRetard(x),axis=1)\n",
    "    df['Airline'] = df.apply(lambda x : re.sub(r' -', '', x['Airline'] ),axis=1)\n",
    "\n",
    "    df = df[df[\"Status\"] != \"NaN\"]\n",
    "    df = df[df[\"secRetard\"] != \"NaN\"]\n",
    "    df.drop([\"SecTimeStamp\",\"Block\"],inplace=True,axis=1)\n",
    "    return  df\n",
    "\n",
    "def addColumSec(x):\n",
    "    global listDate\n",
    "    try:\n",
    "        #on commence par récupérer le nombre de secondes écoulées dans la journée\n",
    "        dayTab =x.iloc[0].split(\":\") \n",
    "        print(str(dayTab))\n",
    "        SecDay = float(dayTab[0])*3600+float(dayTab[1])*60\n",
    "        \n",
    "        #puis le nombre de secondes écoulées dans l'année\n",
    "        tmpDate = listDate[0].getText()\n",
    "        Date = time.strptime(\"2021 \"+ tmpDate,\"%Y %A, %b %d\")\n",
    "        SecDate = time.mktime(Date)\n",
    "        return SecDay + SecDate\n",
    "    except (ValueError, IndexError):\n",
    "        listDate.pop(0)\n",
    "\n",
    "\n",
    "def addColumFullDate(Li):\n",
    "    \"\"\"\n",
    "    Fonction servant à ajouter la date complete qui servira après a merge la df de la meteo et celle des avions\n",
    "    \"\"\"\n",
    "    global listDateCopy2\n",
    "    #transformer les string en données exploitables\n",
    "    if((Li.iloc[6]).startswith(\"Departed \") | (Li.iloc[6]).startswith(\"Landed \")):\n",
    "        Li.iloc[6]= Li.iloc[6][-5:]\n",
    "    if( (Li.iloc[6]).startswith(\"Scheduled\") | (Li.iloc[6]).startswith(\"Estimated\") | (Li.iloc[6]).startswith(\"Delayed\")  | (Li.iloc[6]).startswith(\"Unknown\") | (Li.iloc[6]).startswith(\"Departed\")):\n",
    "        return \"NaN\"\n",
    "    if((Li.iloc[6]).startswith(\"Canceled\")):\n",
    "        return \"Canceled\"\n",
    "\n",
    "\n",
    "    try:\n",
    "        #on récupère la date pour pouvoir plus facilement la mettre en forme dans la colonne et si on n'arrive pas à la recupérer cela veut dire que l'on est\n",
    "        #tombés sur une ligne avec la date\n",
    "        T = time.strptime(Li.iloc[6],'%H:%M')\n",
    "\n",
    "        tmpDate = listDateCopy2[0].getText()\n",
    "        Date = time.strptime(\"2021 \"+ tmpDate,\"%Y %A, %b %d\")\n",
    "\n",
    "    # on met les minute à la valeur du dessous (possible amélioration en rapprochant à la valeur la plus proche mais implique de prendre en compre les changement d'heure, de jours, de mois etc)\n",
    "        if(T.tm_min <30):\n",
    "            mins = \"00\"\n",
    "        else:\n",
    "            mins = \"30\"\n",
    "        \n",
    "        DayNum = str(Date.tm_mday)\n",
    "        if (len(DayNum)==1):\n",
    "            DayNum = \"0\"+DayNum\n",
    "        return str(Date.tm_year) + \"-\" + str(Date.tm_mon) + \"-\" + DayNum + \" \" + str(T.tm_hour) + \":\" + mins + \":\" + \"00\"\n",
    "\n",
    "    except ValueError:\n",
    "        listDateCopy2.pop(0)\n",
    "    \n",
    "\n",
    "\n",
    "\n",
    "def schToSecRetard(Li):\n",
    "    \"\"\"\n",
    "    fonction modifiant la colonne du statut pour calculer le retard:\n",
    "    \"\"\"\n",
    "    global listDateCopy\n",
    "    #ETAPE 1 :transformer les string en données exploitables(optimisable répétition de code)\n",
    "    if((Li.iloc[6]).startswith(\"Departed \") | (Li.iloc[6]).startswith(\"Landed \")):\n",
    "        Li.iloc[6]= Li.iloc[6][-5:]\n",
    "    if( (Li.iloc[6]).startswith(\"Scheduled\") | (Li.iloc[6]).startswith(\"Estimated\") | (Li.iloc[6]).startswith(\"Delayed\")  | (Li.iloc[6]).startswith(\"Unknown\") | (Li.iloc[6]).startswith(\"Departed\")):\n",
    "        return \"NaN\"\n",
    "    if((Li.iloc[6]).startswith(\"Canceled\")):\n",
    "        return \"Canceled\"\n",
    "\n",
    "    #ETAPE 2 : Calculer le nombre de secondes total entre l'an 0 et l'arrivée ou le départ\n",
    "    try: \n",
    "    #on commence par récupérer le nombre de secondes écoulées dans la journée\n",
    "        dayTab =Li.iloc[6].split(\":\") \n",
    "        SecDay = float(dayTab[0])*3600+float(dayTab[1])*60\n",
    "        \n",
    "        #puis le nombre de secondes écoulées dans l'année\n",
    "        tmpDate = listDateCopy[0].getText()\n",
    "        Date = time.strptime(\"2021 \"+ tmpDate,\"%Y %A, %b %d\")\n",
    "        SecDate = time.mktime(Date)\n",
    "        \n",
    "        #print(\"day: \"+str(SecDay)+\"  date: \"+str(SecDate)+\"   iloc7: \"+str(Li.iloc[7]))\n",
    "        return (SecDay + SecDate)-Li.iloc[7]\n",
    "    except (ValueError, IndexError):\n",
    "        listDateCopy.pop(0)\n"
   ]
  },
  {
   "cell_type": "markdown",
   "metadata": {
    "id": "UTiI_YuA94zh"
   },
   "source": [
    "## Récupération de la Météo\n"
   ]
  },
  {
   "cell_type": "markdown",
   "metadata": {
    "id": "dGqvFYi794zj"
   },
   "source": [
    "#### **V2** - Fonction récupération et traitement du code METAR"
   ]
  },
  {
   "cell_type": "code",
   "execution_count": 4,
   "metadata": {
    "id": "aMSY-ufTsHWC"
   },
   "outputs": [],
   "source": [
    "\n",
    "## Fonction de récupération avec le code METAR et la librairy metar-taf-parser\n",
    "#cette fonction nous permet plus de fiabilité et de données que la fonction précédente\n",
    "#lien librairy https://github.com/mivek/python-metar-taf-parser\n",
    "\n",
    "\n",
    "\n",
    "\n",
    "def RecupMetarAirport(Name):\n",
    "    urlWeather = \"//EXEMPLE//\"+Name+\"/weather\"\n",
    "\n",
    "    hdr = {'User-Agent': 'Mozilla/5.0'}\n",
    "    Req = urllib.request.Request(urlWeather,headers=hdr)\n",
    "    html = urllib.request.urlopen(Req)\n",
    "\n",
    "\n",
    "    WeatherSoup = BeautifulSoup(html,'html.parser')\n",
    "    WeatherTable = WeatherSoup.find_all(\"table\")\n",
    "   \n",
    "    dfW = pd.read_html(str(WeatherTable))[0]\n",
    "\n",
    "#récupération des dates dans un dataframe\n",
    "    dfWDate = dfW[\"UTC DATE/TIME\"]  \n",
    "    dfWDate = dfWDate.iloc[::2]   # une ligne sur deux n'est pas utile pour nous, on va donc les drop\n",
    "    dfWDate = dfWDate.reset_index(drop=True)  #reset des index des lignes\n",
    "    \n",
    "\n",
    "  #on récupère le code METAR\n",
    "    dfWMetar = dfW[\"METAR\"]  \n",
    "    dfWMetar = dfWMetar.iloc[::2]\n",
    "    dfWMetar = dfWMetar.reset_index(drop=True)  #reset des index\n",
    "  \n",
    "\n",
    "  #mise en forme dans une dataframe\n",
    "    dfWMetar=pd.DataFrame(dfWMetar)\n",
    "\n",
    "    dfWMetar[\"DateTime UTC\"] = dfWDate.apply(lambda x :ajustTime(x))\n",
    "\n",
    "\n",
    "\n",
    "  #ajout de toutes les valeurs dans les colonnes ajoutées\n",
    "    return dfWMetar\n",
    "\n",
    "def ajustTime(x):\n",
    "    if(float(x[-5:-3]) <30):\n",
    "        x=x[:-5] + \"00\" + x[-3:]\n",
    "    else:\n",
    "        x=x[:-5] + \"30\" + x[-3:]\n",
    "    return x\n",
    "    "
   ]
  },
  {
   "cell_type": "markdown",
   "metadata": {
    "id": "_fTJ00Yp0rvf"
   },
   "source": [
    "## Récupération des codes IATA et des informations sur les aéroports\n",
    "\n",
    "\n",
    "\n"
   ]
  },
  {
   "cell_type": "markdown",
   "metadata": {
    "id": "jcf5gHKpFYJh"
   },
   "source": [
    "#### **V3** - Recupération à partir d'un meilleur fichier csv"
   ]
  },
  {
   "cell_type": "code",
   "execution_count": 5,
   "metadata": {
    "colab": {
     "base_uri": "https://localhost:8080/",
     "height": 624
    },
    "id": "EA6HN2gpkQOq",
    "outputId": "30fc86e0-3bd2-4df1-db67-394d65bf8943"
   },
   "outputs": [],
   "source": [
    "def RecupLargeAirport():\n",
    "    df = pd.read_csv(\"https://raw.githubusercontent.com/datasets/airport-codes/master/data/airport-codes.csv\")\n",
    "    df = df[df['type'] == 'large_airport']\n",
    "    df.drop([\"ident\",\"type\",\"elevation_ft\",\"continent\",\"name\",\"iso_region\",\"municipality\",\"gps_code\",\"local_code\",\"coordinates\"],inplace=True,axis=1)\n",
    "    return df"
   ]
  },
  {
   "cell_type": "markdown",
   "metadata": {
    "id": "8srvVFAOvwSg"
   },
   "source": [
    "## Utilisation des données"
   ]
  },
  {
   "cell_type": "markdown",
   "metadata": {
    "id": "dYSHQbcW0oU1"
   },
   "source": [
    ">Nous avons maintenant ces fonctions : \n",
    ">\n",
    "> Pour la récupération des vols :\n",
    ">\n",
    "> Pour avoir les départs : dep = true et pour les arrivées : dep = false\n",
    " ```\n",
    "inDF(RecupVol(dep,airport)) \n",
    "```\n",
    ">Pour la récupération de la méteo :\n",
    " ```\n",
    "RecupMetarAirport(airport)\n",
    "```\n",
    ">Pour la récupération des codes IATA à partir de wikipedia(full useless):\n",
    " ```\n",
    "RecupAllIATA()\n",
    "```\n",
    ">V2 de la récupération des IATA et d'autres données sur les aéroports(à peaufiner?)\n",
    " ```\n",
    "RecupAirportFromCSV()\n",
    "```\n",
    "\n",
    ">[lien ancien TP de DE pour l'utilisation des librairies et statistiques](https://colab.research.google.com/drive/1htRGO4mk6XT2fUqBE8rHTOJpqOUT9PBC#scrollTo=uDzdmRdbk7fM)\n"
   ]
  },
  {
   "cell_type": "markdown",
   "metadata": {
    "id": "Yqv4DqvRy35G"
   },
   "source": [
    "### Mise en forme et exploitation des données des avions et de la météo"
   ]
  },
  {
   "cell_type": "markdown",
   "metadata": {
    "id": "uUZlN0_zq0jh"
   },
   "source": [
    "#### Récupération et mise en forme"
   ]
  },
  {
   "cell_type": "markdown",
   "metadata": {
    "id": "cyOkeBHAll4B"
   },
   "source": [
    "##### Récupération de la météo et de la liste des départ d'avion de tout les aéroports de france\n",
    ">*on met en moyenne 8-10 secondes pour un aéroport donc pour les 158 de france(que l'on a) on mettra à peut près 30mins*"
   ]
  },
  {
   "cell_type": "code",
   "execution_count": 9,
   "metadata": {
    "id": "u4MC-9WLwKgR"
   },
   "outputs": [],
   "source": [
    "def RecupCountryPlaneWeather(maxValue = 10000,departure =True,SaveWhileRunning=False):\n",
    "    \"\"\"\n",
    "    Fonction de récupération de tous les aéroports d'un pays\n",
    "    Param country : le pays concerné si pas défini alors on va récuperer ceux de france (FR)\n",
    "    Param departur : booleen true pour sélectionner les départs ou les arrivées\n",
    "    Param maxValue : le nombre d'aéroports maximum que l'on veut récuperer avec notre requete\n",
    "    Param SaveWhileRunning : bolleen permettant de spécifier si on append les résultats pendant la récupération (Préférable pour éviter la perte de données lors d'une erreur ou d'un ban)\n",
    "    \"\"\"\n",
    "     # Récupération des codes IATA correspondant au pays\n",
    "    DFIATA = RecupLargeAirport()\n",
    "    DFIATA=DFIATA.dropna().reset_index(drop=True)\n",
    "    SerieIATA = SerieIATA=DFIATA[\"iata_code\"].str.lower()\n",
    "\n",
    "    \n",
    "  #Récupération de la méteo et des avions des aéroports \n",
    "    DFallPlaneWeather = pd.DataFrame()\n",
    "    i=0\n",
    "    for row in SerieIATA:\n",
    "        print(i)\n",
    "        print(row)\n",
    "        if (i >= maxValue):\n",
    "            break\n",
    "        i=i+1;\n",
    "    #Récupération\n",
    "        #try:\n",
    "        DFM = RecupMetarAirport(str(row))\n",
    "        sleep(0.5)\n",
    "        DFAirport = inDF(RecupVol(True,str(row)))\n",
    "        #except :\n",
    "        #    print(\"erreur pour l'aéroport \"+row)\n",
    "        #    continue\n",
    "        #merge des dataframes\n",
    "        DFCurrentPLaneWeather = pd.merge(DFM,DFAirport,how='inner',left_on='DateTime UTC', right_on='FullDate')\n",
    "        #ajout de leurs codes iata\n",
    "        DFCurrentPLaneWeather[\"iata\"] = row\n",
    "        #print(DFCurrentPLaneWeather)\n",
    "        #ajout dans le csv\n",
    "        if(SaveWhileRunning):\n",
    "            DFCurrentPLaneWeather.to_csv('allDataMieux.csv',mode='a')\n",
    "        #ajout dans la dataframe complete\n",
    "        try:\n",
    "            if(i==1):\n",
    "                DFallPlaneWeather=DFCurrentPLaneWeather\n",
    "            else:\n",
    "                DFallPlaneWeather = pd.concat([DFallPlaneWeather,DFCurrentPLaneWeather])\n",
    "      #print(DFallPlaneWeather)\n",
    "        except:\n",
    "            continue\n",
    " \n",
    "    return DFallPlaneWeather\n",
    "  \n",
    "\n"
   ]
  },
  {
   "cell_type": "markdown",
   "metadata": {
    "id": "GA56Mc1pJwBo"
   },
   "source": [
    "### Code à executer régulièrement\n"
   ]
  },
  {
   "cell_type": "code",
   "execution_count": 12,
   "metadata": {
    "id": "3lBaVSbfJ1HY",
    "scrolled": false
   },
   "outputs": [
    {
     "name": "stdout",
     "output_type": "stream",
     "text": [
      "0\n",
      "pom\n",
      "[\"{{objFlight.flight.time.scheduled.departure * 1000 || '-' | date\", ' timeFormat ', ' timeZone}}']\n"
     ]
    },
    {
     "ename": "IndexError",
     "evalue": "pop from empty list",
     "output_type": "error",
     "traceback": [
      "\u001b[0;31m---------------------------------------------------------------------------\u001b[0m",
      "\u001b[0;31mValueError\u001b[0m                                Traceback (most recent call last)",
      "\u001b[0;32m/tmp/ipykernel_221133/3955246430.py\u001b[0m in \u001b[0;36maddColumSec\u001b[0;34m(x)\u001b[0m\n\u001b[1;32m     49\u001b[0m         \u001b[0mprint\u001b[0m\u001b[0;34m(\u001b[0m\u001b[0mstr\u001b[0m\u001b[0;34m(\u001b[0m\u001b[0mdayTab\u001b[0m\u001b[0;34m)\u001b[0m\u001b[0;34m)\u001b[0m\u001b[0;34m\u001b[0m\u001b[0;34m\u001b[0m\u001b[0m\n\u001b[0;32m---> 50\u001b[0;31m         \u001b[0mSecDay\u001b[0m \u001b[0;34m=\u001b[0m \u001b[0mfloat\u001b[0m\u001b[0;34m(\u001b[0m\u001b[0mdayTab\u001b[0m\u001b[0;34m[\u001b[0m\u001b[0;36m0\u001b[0m\u001b[0;34m]\u001b[0m\u001b[0;34m)\u001b[0m\u001b[0;34m*\u001b[0m\u001b[0;36m3600\u001b[0m\u001b[0;34m+\u001b[0m\u001b[0mfloat\u001b[0m\u001b[0;34m(\u001b[0m\u001b[0mdayTab\u001b[0m\u001b[0;34m[\u001b[0m\u001b[0;36m1\u001b[0m\u001b[0;34m]\u001b[0m\u001b[0;34m)\u001b[0m\u001b[0;34m*\u001b[0m\u001b[0;36m60\u001b[0m\u001b[0;34m\u001b[0m\u001b[0;34m\u001b[0m\u001b[0m\n\u001b[0m\u001b[1;32m     51\u001b[0m \u001b[0;34m\u001b[0m\u001b[0m\n",
      "\u001b[0;31mValueError\u001b[0m: could not convert string to float: \"{{objFlight.flight.time.scheduled.departure * 1000 || '-' | date\"",
      "\nDuring handling of the above exception, another exception occurred:\n",
      "\u001b[0;31mIndexError\u001b[0m                                Traceback (most recent call last)",
      "\u001b[0;32m/tmp/ipykernel_221133/3976650348.py\u001b[0m in \u001b[0;36m<module>\u001b[0;34m\u001b[0m\n\u001b[0;32m----> 1\u001b[0;31m \u001b[0mDFFR\u001b[0m \u001b[0;34m=\u001b[0m \u001b[0mRecupCountryPlaneWeather\u001b[0m\u001b[0;34m(\u001b[0m\u001b[0mSaveWhileRunning\u001b[0m\u001b[0;34m=\u001b[0m\u001b[0;32mTrue\u001b[0m\u001b[0;34m,\u001b[0m\u001b[0mmaxValue\u001b[0m\u001b[0;34m=\u001b[0m\u001b[0;36m2\u001b[0m\u001b[0;34m)\u001b[0m\u001b[0;31m# à peu près 45 minutes d'execution\u001b[0m\u001b[0;34m\u001b[0m\u001b[0;34m\u001b[0m\u001b[0m\n\u001b[0m",
      "\u001b[0;32m/tmp/ipykernel_221133/994847096.py\u001b[0m in \u001b[0;36mRecupCountryPlaneWeather\u001b[0;34m(maxValue, departure, SaveWhileRunning)\u001b[0m\n\u001b[1;32m     26\u001b[0m         \u001b[0mDFM\u001b[0m \u001b[0;34m=\u001b[0m \u001b[0mRecupMetarAirport\u001b[0m\u001b[0;34m(\u001b[0m\u001b[0mstr\u001b[0m\u001b[0;34m(\u001b[0m\u001b[0mrow\u001b[0m\u001b[0;34m)\u001b[0m\u001b[0;34m)\u001b[0m\u001b[0;34m\u001b[0m\u001b[0;34m\u001b[0m\u001b[0m\n\u001b[1;32m     27\u001b[0m         \u001b[0msleep\u001b[0m\u001b[0;34m(\u001b[0m\u001b[0;36m0.5\u001b[0m\u001b[0;34m)\u001b[0m\u001b[0;34m\u001b[0m\u001b[0;34m\u001b[0m\u001b[0m\n\u001b[0;32m---> 28\u001b[0;31m         \u001b[0mDFAirport\u001b[0m \u001b[0;34m=\u001b[0m \u001b[0minDF\u001b[0m\u001b[0;34m(\u001b[0m\u001b[0mRecupVol\u001b[0m\u001b[0;34m(\u001b[0m\u001b[0;32mTrue\u001b[0m\u001b[0;34m,\u001b[0m\u001b[0mstr\u001b[0m\u001b[0;34m(\u001b[0m\u001b[0mrow\u001b[0m\u001b[0;34m)\u001b[0m\u001b[0;34m)\u001b[0m\u001b[0;34m)\u001b[0m\u001b[0;34m\u001b[0m\u001b[0;34m\u001b[0m\u001b[0m\n\u001b[0m\u001b[1;32m     29\u001b[0m         \u001b[0;31m#except :\u001b[0m\u001b[0;34m\u001b[0m\u001b[0;34m\u001b[0m\u001b[0;34m\u001b[0m\u001b[0m\n\u001b[1;32m     30\u001b[0m         \u001b[0;31m#    print(\"erreur pour l'aéroport \"+row)\u001b[0m\u001b[0;34m\u001b[0m\u001b[0;34m\u001b[0m\u001b[0;34m\u001b[0m\u001b[0m\n",
      "\u001b[0;32m/tmp/ipykernel_221133/3955246430.py\u001b[0m in \u001b[0;36minDF\u001b[0;34m(ps)\u001b[0m\n\u001b[1;32m     29\u001b[0m     \u001b[0;31m#on applique à toute les ligne la fonciton addColumSec qui va calculer\u001b[0m\u001b[0;34m\u001b[0m\u001b[0;34m\u001b[0m\u001b[0;34m\u001b[0m\u001b[0m\n\u001b[1;32m     30\u001b[0m     \u001b[0;31m#le nombre de secondes écoulées entre l'\"epoch time\" et la date d'arrivée prévue\u001b[0m\u001b[0;34m\u001b[0m\u001b[0;34m\u001b[0m\u001b[0;34m\u001b[0m\u001b[0m\n\u001b[0;32m---> 31\u001b[0;31m     \u001b[0mdf\u001b[0m\u001b[0;34m[\u001b[0m\u001b[0;34m'SecTimeStamp'\u001b[0m\u001b[0;34m]\u001b[0m \u001b[0;34m=\u001b[0m \u001b[0mdf\u001b[0m\u001b[0;34m.\u001b[0m\u001b[0mapply\u001b[0m\u001b[0;34m(\u001b[0m\u001b[0;32mlambda\u001b[0m \u001b[0mx\u001b[0m \u001b[0;34m:\u001b[0m\u001b[0maddColumSec\u001b[0m\u001b[0;34m(\u001b[0m\u001b[0mx\u001b[0m\u001b[0;34m)\u001b[0m\u001b[0;34m,\u001b[0m\u001b[0maxis\u001b[0m\u001b[0;34m=\u001b[0m\u001b[0;36m1\u001b[0m\u001b[0;34m)\u001b[0m\u001b[0;34m\u001b[0m\u001b[0;34m\u001b[0m\u001b[0m\n\u001b[0m\u001b[1;32m     32\u001b[0m     \u001b[0mdf\u001b[0m\u001b[0;34m[\u001b[0m\u001b[0;34m'FullDate'\u001b[0m\u001b[0;34m]\u001b[0m \u001b[0;34m=\u001b[0m \u001b[0mdf\u001b[0m\u001b[0;34m.\u001b[0m\u001b[0mapply\u001b[0m\u001b[0;34m(\u001b[0m\u001b[0;32mlambda\u001b[0m \u001b[0mx\u001b[0m \u001b[0;34m:\u001b[0m \u001b[0maddColumFullDate\u001b[0m\u001b[0;34m(\u001b[0m\u001b[0mx\u001b[0m\u001b[0;34m)\u001b[0m\u001b[0;34m,\u001b[0m\u001b[0maxis\u001b[0m\u001b[0;34m=\u001b[0m\u001b[0;36m1\u001b[0m\u001b[0;34m)\u001b[0m\u001b[0;34m\u001b[0m\u001b[0;34m\u001b[0m\u001b[0m\n\u001b[1;32m     33\u001b[0m \u001b[0;34m\u001b[0m\u001b[0m\n",
      "\u001b[0;32m/anaconda3/envs/execEnv/lib/python3.8/site-packages/pandas/core/frame.py\u001b[0m in \u001b[0;36mapply\u001b[0;34m(self, func, axis, raw, result_type, args, **kwargs)\u001b[0m\n\u001b[1;32m   8738\u001b[0m             \u001b[0mkwargs\u001b[0m\u001b[0;34m=\u001b[0m\u001b[0mkwargs\u001b[0m\u001b[0;34m,\u001b[0m\u001b[0;34m\u001b[0m\u001b[0;34m\u001b[0m\u001b[0m\n\u001b[1;32m   8739\u001b[0m         )\n\u001b[0;32m-> 8740\u001b[0;31m         \u001b[0;32mreturn\u001b[0m \u001b[0mop\u001b[0m\u001b[0;34m.\u001b[0m\u001b[0mapply\u001b[0m\u001b[0;34m(\u001b[0m\u001b[0;34m)\u001b[0m\u001b[0;34m\u001b[0m\u001b[0;34m\u001b[0m\u001b[0m\n\u001b[0m\u001b[1;32m   8741\u001b[0m \u001b[0;34m\u001b[0m\u001b[0m\n\u001b[1;32m   8742\u001b[0m     def applymap(\n",
      "\u001b[0;32m/anaconda3/envs/execEnv/lib/python3.8/site-packages/pandas/core/apply.py\u001b[0m in \u001b[0;36mapply\u001b[0;34m(self)\u001b[0m\n\u001b[1;32m    686\u001b[0m             \u001b[0;32mreturn\u001b[0m \u001b[0mself\u001b[0m\u001b[0;34m.\u001b[0m\u001b[0mapply_raw\u001b[0m\u001b[0;34m(\u001b[0m\u001b[0;34m)\u001b[0m\u001b[0;34m\u001b[0m\u001b[0;34m\u001b[0m\u001b[0m\n\u001b[1;32m    687\u001b[0m \u001b[0;34m\u001b[0m\u001b[0m\n\u001b[0;32m--> 688\u001b[0;31m         \u001b[0;32mreturn\u001b[0m \u001b[0mself\u001b[0m\u001b[0;34m.\u001b[0m\u001b[0mapply_standard\u001b[0m\u001b[0;34m(\u001b[0m\u001b[0;34m)\u001b[0m\u001b[0;34m\u001b[0m\u001b[0;34m\u001b[0m\u001b[0m\n\u001b[0m\u001b[1;32m    689\u001b[0m \u001b[0;34m\u001b[0m\u001b[0m\n\u001b[1;32m    690\u001b[0m     \u001b[0;32mdef\u001b[0m \u001b[0magg\u001b[0m\u001b[0;34m(\u001b[0m\u001b[0mself\u001b[0m\u001b[0;34m)\u001b[0m\u001b[0;34m:\u001b[0m\u001b[0;34m\u001b[0m\u001b[0;34m\u001b[0m\u001b[0m\n",
      "\u001b[0;32m/anaconda3/envs/execEnv/lib/python3.8/site-packages/pandas/core/apply.py\u001b[0m in \u001b[0;36mapply_standard\u001b[0;34m(self)\u001b[0m\n\u001b[1;32m    810\u001b[0m \u001b[0;34m\u001b[0m\u001b[0m\n\u001b[1;32m    811\u001b[0m     \u001b[0;32mdef\u001b[0m \u001b[0mapply_standard\u001b[0m\u001b[0;34m(\u001b[0m\u001b[0mself\u001b[0m\u001b[0;34m)\u001b[0m\u001b[0;34m:\u001b[0m\u001b[0;34m\u001b[0m\u001b[0;34m\u001b[0m\u001b[0m\n\u001b[0;32m--> 812\u001b[0;31m         \u001b[0mresults\u001b[0m\u001b[0;34m,\u001b[0m \u001b[0mres_index\u001b[0m \u001b[0;34m=\u001b[0m \u001b[0mself\u001b[0m\u001b[0;34m.\u001b[0m\u001b[0mapply_series_generator\u001b[0m\u001b[0;34m(\u001b[0m\u001b[0;34m)\u001b[0m\u001b[0;34m\u001b[0m\u001b[0;34m\u001b[0m\u001b[0m\n\u001b[0m\u001b[1;32m    813\u001b[0m \u001b[0;34m\u001b[0m\u001b[0m\n\u001b[1;32m    814\u001b[0m         \u001b[0;31m# wrap results\u001b[0m\u001b[0;34m\u001b[0m\u001b[0;34m\u001b[0m\u001b[0;34m\u001b[0m\u001b[0m\n",
      "\u001b[0;32m/anaconda3/envs/execEnv/lib/python3.8/site-packages/pandas/core/apply.py\u001b[0m in \u001b[0;36mapply_series_generator\u001b[0;34m(self)\u001b[0m\n\u001b[1;32m    826\u001b[0m             \u001b[0;32mfor\u001b[0m \u001b[0mi\u001b[0m\u001b[0;34m,\u001b[0m \u001b[0mv\u001b[0m \u001b[0;32min\u001b[0m \u001b[0menumerate\u001b[0m\u001b[0;34m(\u001b[0m\u001b[0mseries_gen\u001b[0m\u001b[0;34m)\u001b[0m\u001b[0;34m:\u001b[0m\u001b[0;34m\u001b[0m\u001b[0;34m\u001b[0m\u001b[0m\n\u001b[1;32m    827\u001b[0m                 \u001b[0;31m# ignore SettingWithCopy here in case the user mutates\u001b[0m\u001b[0;34m\u001b[0m\u001b[0;34m\u001b[0m\u001b[0;34m\u001b[0m\u001b[0m\n\u001b[0;32m--> 828\u001b[0;31m                 \u001b[0mresults\u001b[0m\u001b[0;34m[\u001b[0m\u001b[0mi\u001b[0m\u001b[0;34m]\u001b[0m \u001b[0;34m=\u001b[0m \u001b[0mself\u001b[0m\u001b[0;34m.\u001b[0m\u001b[0mf\u001b[0m\u001b[0;34m(\u001b[0m\u001b[0mv\u001b[0m\u001b[0;34m)\u001b[0m\u001b[0;34m\u001b[0m\u001b[0;34m\u001b[0m\u001b[0m\n\u001b[0m\u001b[1;32m    829\u001b[0m                 \u001b[0;32mif\u001b[0m \u001b[0misinstance\u001b[0m\u001b[0;34m(\u001b[0m\u001b[0mresults\u001b[0m\u001b[0;34m[\u001b[0m\u001b[0mi\u001b[0m\u001b[0;34m]\u001b[0m\u001b[0;34m,\u001b[0m \u001b[0mABCSeries\u001b[0m\u001b[0;34m)\u001b[0m\u001b[0;34m:\u001b[0m\u001b[0;34m\u001b[0m\u001b[0;34m\u001b[0m\u001b[0m\n\u001b[1;32m    830\u001b[0m                     \u001b[0;31m# If we have a view on v, we need to make a copy because\u001b[0m\u001b[0;34m\u001b[0m\u001b[0;34m\u001b[0m\u001b[0;34m\u001b[0m\u001b[0m\n",
      "\u001b[0;32m/tmp/ipykernel_221133/3955246430.py\u001b[0m in \u001b[0;36m<lambda>\u001b[0;34m(x)\u001b[0m\n\u001b[1;32m     29\u001b[0m     \u001b[0;31m#on applique à toute les ligne la fonciton addColumSec qui va calculer\u001b[0m\u001b[0;34m\u001b[0m\u001b[0;34m\u001b[0m\u001b[0;34m\u001b[0m\u001b[0m\n\u001b[1;32m     30\u001b[0m     \u001b[0;31m#le nombre de secondes écoulées entre l'\"epoch time\" et la date d'arrivée prévue\u001b[0m\u001b[0;34m\u001b[0m\u001b[0;34m\u001b[0m\u001b[0;34m\u001b[0m\u001b[0m\n\u001b[0;32m---> 31\u001b[0;31m     \u001b[0mdf\u001b[0m\u001b[0;34m[\u001b[0m\u001b[0;34m'SecTimeStamp'\u001b[0m\u001b[0;34m]\u001b[0m \u001b[0;34m=\u001b[0m \u001b[0mdf\u001b[0m\u001b[0;34m.\u001b[0m\u001b[0mapply\u001b[0m\u001b[0;34m(\u001b[0m\u001b[0;32mlambda\u001b[0m \u001b[0mx\u001b[0m \u001b[0;34m:\u001b[0m\u001b[0maddColumSec\u001b[0m\u001b[0;34m(\u001b[0m\u001b[0mx\u001b[0m\u001b[0;34m)\u001b[0m\u001b[0;34m,\u001b[0m\u001b[0maxis\u001b[0m\u001b[0;34m=\u001b[0m\u001b[0;36m1\u001b[0m\u001b[0;34m)\u001b[0m\u001b[0;34m\u001b[0m\u001b[0;34m\u001b[0m\u001b[0m\n\u001b[0m\u001b[1;32m     32\u001b[0m     \u001b[0mdf\u001b[0m\u001b[0;34m[\u001b[0m\u001b[0;34m'FullDate'\u001b[0m\u001b[0;34m]\u001b[0m \u001b[0;34m=\u001b[0m \u001b[0mdf\u001b[0m\u001b[0;34m.\u001b[0m\u001b[0mapply\u001b[0m\u001b[0;34m(\u001b[0m\u001b[0;32mlambda\u001b[0m \u001b[0mx\u001b[0m \u001b[0;34m:\u001b[0m \u001b[0maddColumFullDate\u001b[0m\u001b[0;34m(\u001b[0m\u001b[0mx\u001b[0m\u001b[0;34m)\u001b[0m\u001b[0;34m,\u001b[0m\u001b[0maxis\u001b[0m\u001b[0;34m=\u001b[0m\u001b[0;36m1\u001b[0m\u001b[0;34m)\u001b[0m\u001b[0;34m\u001b[0m\u001b[0;34m\u001b[0m\u001b[0m\n\u001b[1;32m     33\u001b[0m \u001b[0;34m\u001b[0m\u001b[0m\n",
      "\u001b[0;32m/tmp/ipykernel_221133/3955246430.py\u001b[0m in \u001b[0;36maddColumSec\u001b[0;34m(x)\u001b[0m\n\u001b[1;32m     56\u001b[0m         \u001b[0;32mreturn\u001b[0m \u001b[0mSecDay\u001b[0m \u001b[0;34m+\u001b[0m \u001b[0mSecDate\u001b[0m\u001b[0;34m\u001b[0m\u001b[0;34m\u001b[0m\u001b[0m\n\u001b[1;32m     57\u001b[0m     \u001b[0;32mexcept\u001b[0m \u001b[0;34m(\u001b[0m\u001b[0mValueError\u001b[0m\u001b[0;34m,\u001b[0m \u001b[0mIndexError\u001b[0m\u001b[0;34m)\u001b[0m\u001b[0;34m:\u001b[0m\u001b[0;34m\u001b[0m\u001b[0;34m\u001b[0m\u001b[0m\n\u001b[0;32m---> 58\u001b[0;31m         \u001b[0mlistDate\u001b[0m\u001b[0;34m.\u001b[0m\u001b[0mpop\u001b[0m\u001b[0;34m(\u001b[0m\u001b[0;36m0\u001b[0m\u001b[0;34m)\u001b[0m\u001b[0;34m\u001b[0m\u001b[0;34m\u001b[0m\u001b[0m\n\u001b[0m\u001b[1;32m     59\u001b[0m \u001b[0;34m\u001b[0m\u001b[0m\n\u001b[1;32m     60\u001b[0m \u001b[0;34m\u001b[0m\u001b[0m\n",
      "\u001b[0;31mIndexError\u001b[0m: pop from empty list"
     ]
    }
   ],
   "source": [
    "DFFR = RecupCountryPlaneWeather(SaveWhileRunning=True,maxValue=2)# à peu près 45 minutes d'execution"
   ]
  },
  {
   "cell_type": "code",
   "execution_count": null,
   "metadata": {},
   "outputs": [],
   "source": []
  }
 ],
 "metadata": {
  "celltoolbar": "Tags",
  "colab": {
   "collapsed_sections": [
    "bYJG9yIeTypE",
    "Yvb-KH2ST3-P",
    "_bL9FxZlzLQm",
    "3huyVbwMFs8o",
    "sqSH6StFTt0N",
    "UTiI_YuA94zh",
    "Dl4ZHb0c94zh",
    "dGqvFYi794zj",
    "X0cc-B7oBaCx",
    "8srvVFAOvwSg",
    "vV1OhjyXErr4",
    "afPqV6KFEqyl",
    "W8d1eExFqxUn"
   ],
   "name": "Projet_DE_REUX-SOURISSEAU.ipynb",
   "provenance": []
  },
  "kernelspec": {
   "display_name": "Python 3 (ipykernel)",
   "language": "python",
   "name": "python3"
  },
  "language_info": {
   "codemirror_mode": {
    "name": "ipython",
    "version": 3
   },
   "file_extension": ".py",
   "mimetype": "text/x-python",
   "name": "python",
   "nbconvert_exporter": "python",
   "pygments_lexer": "ipython3",
   "version": "3.8.10"
  }
 },
 "nbformat": 4,
 "nbformat_minor": 1
}
